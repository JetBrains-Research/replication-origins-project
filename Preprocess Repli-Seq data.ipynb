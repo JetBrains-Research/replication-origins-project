{
 "cells": [
  {
   "cell_type": "markdown",
   "metadata": {},
   "source": [
    "# Homo sapiens"
   ]
  },
  {
   "cell_type": "code",
   "execution_count": 46,
   "metadata": {},
   "outputs": [
    {
     "name": "stdout",
     "output_type": "stream",
     "text": [
      "--2021-03-11 19:42:32--  http://hgdownload.soe.ucsc.edu/goldenPath/hg18/liftOver/hg18ToHg19.over.chain.gz\n",
      "Resolving hgdownload.soe.ucsc.edu (hgdownload.soe.ucsc.edu)... 128.114.119.163\n",
      "Connecting to hgdownload.soe.ucsc.edu (hgdownload.soe.ucsc.edu)|128.114.119.163|:80... connected.\n",
      "HTTP request sent, awaiting response... 200 OK\n",
      "Length: 140346 (137K) [application/x-gzip]\n",
      "Saving to: ‘hg18ToHg19.over.chain.gz’\n",
      "\n",
      "hg18ToHg19.over.cha 100%[===================>] 137.06K   203KB/s    in 0.7s    \n",
      "\n",
      "2021-03-11 19:42:33 (203 KB/s) - ‘hg18ToHg19.over.chain.gz’ saved [140346/140346]\n",
      "\n"
     ]
    }
   ],
   "source": [
    "!wget http://hgdownload.soe.ucsc.edu/goldenPath/hg18/liftOver/hg18ToHg19.over.chain.gz\n",
    "!gunzip hg18ToHg19.over.chain.gz"
   ]
  },
  {
   "cell_type": "markdown",
   "metadata": {},
   "source": [
    "## Bubble-seq"
   ]
  },
  {
   "cell_type": "code",
   "execution_count": 14,
   "metadata": {},
   "outputs": [],
   "source": [
    "!mkdir -p bubble_seq"
   ]
  },
  {
   "cell_type": "markdown",
   "metadata": {},
   "source": [
    "### Cell: GM06990, source GSE38809"
   ]
  },
  {
   "cell_type": "code",
   "execution_count": 17,
   "metadata": {},
   "outputs": [],
   "source": [
    "!mkdir -p bubble_seq/GSE38809"
   ]
  },
  {
   "cell_type": "code",
   "execution_count": 22,
   "metadata": {
    "scrolled": true
   },
   "outputs": [
    {
     "name": "stdout",
     "output_type": "stream",
     "text": [
      "--2021-03-11 19:06:01--  https://ftp.ncbi.nlm.nih.gov/geo/series/GSE38nnn/GSE38809/suppl/GSE38809%5FGM%5Fcombined%5FRD%5Fbubbles%2Ebedgraph%2Egz\n",
      "Resolving ftp.ncbi.nlm.nih.gov (ftp.ncbi.nlm.nih.gov)... 130.14.250.11, 130.14.250.12\n",
      "Connecting to ftp.ncbi.nlm.nih.gov (ftp.ncbi.nlm.nih.gov)|130.14.250.11|:443... connected.\n",
      "HTTP request sent, awaiting response... 200 OK\n",
      "Length: 2087913 (2.0M) [application/x-gzip]\n",
      "Saving to: ‘GSE38809_GM_combined_RD_bubbles.bedgraph.gz.1’\n",
      "\n",
      "GSE38809_GM_combine 100%[===================>]   1.99M   796KB/s    in 2.6s    \n",
      "\n",
      "2021-03-11 19:06:05 (796 KB/s) - ‘GSE38809_GM_combined_RD_bubbles.bedgraph.gz.1’ saved [2087913/2087913]\n",
      "\n",
      "--2021-03-11 19:06:05--  https://ftp.ncbi.nlm.nih.gov/geo/samples/GSM949nnn/GSM949926/suppl/GSM949926%5FGM%5FT1%5FRD%5Fbubbles%2Ebedgraph%2Egz\n",
      "Resolving ftp.ncbi.nlm.nih.gov (ftp.ncbi.nlm.nih.gov)... 130.14.250.12, 130.14.250.11\n",
      "Connecting to ftp.ncbi.nlm.nih.gov (ftp.ncbi.nlm.nih.gov)|130.14.250.12|:443... connected.\n",
      "HTTP request sent, awaiting response... 200 OK\n",
      "Length: 884200 (863K) [application/x-gzip]\n",
      "Saving to: ‘GSM949926_GM_T1_RD_bubbles.bedgraph.gz.1’\n",
      "\n",
      "GSM949926_GM_T1_RD_ 100%[===================>] 863.48K   575KB/s    in 1.5s    \n",
      "\n",
      "2021-03-11 19:06:07 (575 KB/s) - ‘GSM949926_GM_T1_RD_bubbles.bedgraph.gz.1’ saved [884200/884200]\n",
      "\n",
      "--2021-03-11 19:06:07--  https://ftp.ncbi.nlm.nih.gov/geo/samples/GSM949nnn/GSM949927/suppl/GSM949927%5FGM%5FT2%5FRD%5Fbubbles%2Ebedgraph%2Egz\n",
      "Resolving ftp.ncbi.nlm.nih.gov (ftp.ncbi.nlm.nih.gov)... 130.14.250.11, 130.14.250.12\n",
      "Connecting to ftp.ncbi.nlm.nih.gov (ftp.ncbi.nlm.nih.gov)|130.14.250.11|:443... connected.\n",
      "HTTP request sent, awaiting response... 200 OK\n",
      "Length: 1032288 (1008K) [application/x-gzip]\n",
      "Saving to: ‘GSM949927_GM_T2_RD_bubbles.bedgraph.gz’\n",
      "\n",
      "GSM949927_GM_T2_RD_ 100%[===================>]   1008K   738KB/s    in 1.4s    \n",
      "\n",
      "2021-03-11 19:06:09 (738 KB/s) - ‘GSM949927_GM_T2_RD_bubbles.bedgraph.gz’ saved [1032288/1032288]\n",
      "\n",
      "--2021-03-11 19:06:09--  https://ftp.ncbi.nlm.nih.gov/geo/samples/GSM949nnn/GSM949928/suppl/GSM949928%5FGM%5FB1%5FRD%5Fbubbles%2Ebedgraph%2Egz\n",
      "Resolving ftp.ncbi.nlm.nih.gov (ftp.ncbi.nlm.nih.gov)... 130.14.250.11, 130.14.250.12\n",
      "Connecting to ftp.ncbi.nlm.nih.gov (ftp.ncbi.nlm.nih.gov)|130.14.250.11|:443... connected.\n",
      "HTTP request sent, awaiting response... 200 OK\n",
      "Length: 939466 (917K) [application/x-gzip]\n",
      "Saving to: ‘GSM949928_GM_B1_RD_bubbles.bedgraph.gz’\n",
      "\n",
      "GSM949928_GM_B1_RD_ 100%[===================>] 917.45K   530KB/s    in 1.7s    \n",
      "\n",
      "2021-03-11 19:06:11 (530 KB/s) - ‘GSM949928_GM_B1_RD_bubbles.bedgraph.gz’ saved [939466/939466]\n",
      "\n"
     ]
    }
   ],
   "source": [
    "!cd bubble_seq/GSE38809 && \\\n",
    "    wget https://ftp.ncbi.nlm.nih.gov/geo/series/GSE38nnn/GSE38809/suppl/GSE38809%5FGM%5Fcombined%5FRD%5Fbubbles%2Ebedgraph%2Egz && \\\n",
    "    wget https://ftp.ncbi.nlm.nih.gov/geo/samples/GSM949nnn/GSM949926/suppl/GSM949926%5FGM%5FT1%5FRD%5Fbubbles%2Ebedgraph%2Egz && \\\n",
    "    wget https://ftp.ncbi.nlm.nih.gov/geo/samples/GSM949nnn/GSM949927/suppl/GSM949927%5FGM%5FT2%5FRD%5Fbubbles%2Ebedgraph%2Egz && \\\n",
    "    wget https://ftp.ncbi.nlm.nih.gov/geo/samples/GSM949nnn/GSM949928/suppl/GSM949928%5FGM%5FB1%5FRD%5Fbubbles%2Ebedgraph%2Egz"
   ]
  },
  {
   "cell_type": "code",
   "execution_count": 29,
   "metadata": {},
   "outputs": [
    {
     "name": "stdout",
     "output_type": "stream",
     "text": [
      "GSE38809_GM_combined_RD_bubbles.bedgraph.gz\r\n",
      "GSM949926_GM_T1_RD_bubbles.bedgraph.gz\r\n",
      "GSM949927_GM_T2_RD_bubbles.bedgraph.gz\r\n",
      "GSM949928_GM_B1_RD_bubbles.bedgraph.gz\r\n"
     ]
    }
   ],
   "source": [
    "!ls bubble_seq/GSE38809"
   ]
  },
  {
   "cell_type": "code",
   "execution_count": 35,
   "metadata": {},
   "outputs": [
    {
     "name": "stdout",
     "output_type": "stream",
     "text": [
      "track type=bedGraph name=\"GM06990 bubbles\" description=\"GM06990 bubbles\"\r\n",
      "chr1\t709948\t722304\t0.170764709452897\r\n",
      "chr1\t726592\t730590\t0.0162581290645323\r\n",
      "chr1\t743572\t744197\t0.03695\r\n",
      "chr1\t744198\t750379\t0.673098507523055\r\n",
      "gzcat: error writing to output: Broken pipe\r\n",
      "gzcat: bubble_seq/GSE38809/GSE38809_GM_combined_RD_bubbles.bedgraph.gz: uncompress failed\r\n"
     ]
    }
   ],
   "source": [
    "!gzcat bubble_seq/GSE38809/GSE38809_GM_combined_RD_bubbles.bedgraph.gz | head -n 5"
   ]
  },
  {
   "cell_type": "code",
   "execution_count": 45,
   "metadata": {},
   "outputs": [
    {
     "name": "stdout",
     "output_type": "stream",
     "text": [
      "Done: bubble_seq/GSE38809/GSM949927_GM_T2_RD_bubbles.hg18.bed\n",
      "Done: bubble_seq/GSE38809/GSM949928_GM_B1_RD_bubbles.hg18.bed\n",
      "Done: bubble_seq/GSE38809/GSE38809_GM_combined_RD_bubbles.hg18.bed\n",
      "Done: bubble_seq/GSE38809/GSM949926_GM_T1_RD_bubbles.hg18.bed\n"
     ]
    }
   ],
   "source": [
    "! for F in $(find bubble_seq/GSE38809 -name *.gz); do OUTPUT=${F//bedgraph.gz/hg18.bed};\\\n",
    "    gzcat $F | awk -v OFS=\"\\t\" '{ if ($1 != \"track\") print $1,$2,$3,$4}' > $OUTPUT; \\\n",
    "    echo \"Done: $OUTPUT\"; \\\n",
    "  done"
   ]
  },
  {
   "cell_type": "code",
   "execution_count": 54,
   "metadata": {},
   "outputs": [
    {
     "name": "stdout",
     "output_type": "stream",
     "text": [
      "Reading liftover chains\n",
      "Mapping coordinates\n",
      "Reading liftover chains\n",
      "Mapping coordinates\n",
      "Reading liftover chains\n",
      "Mapping coordinates\n",
      "Reading liftover chains\n",
      "Mapping coordinates\n"
     ]
    }
   ],
   "source": [
    "!liftOver bubble_seq/GSE38809/GSM949927_GM_T2_RD_bubbles.hg18.bed \\\n",
    "  hg18ToHg19.over.chain \\\n",
    "  bubble_seq/GSE38809/GM06990.Bubble_Seq.GSM949927_GM_T2.hg19.bed \\\n",
    "  bubble_seq/GSE38809/GM06990.Bubble_Seq.GSM949927_GM_T2.hg19.unmapped.bed\n",
    "\n",
    "!liftOver bubble_seq/GSE38809/GSM949928_GM_B1_RD_bubbles.hg18.bed \\\n",
    "  hg18ToHg19.over.chain \\\n",
    "  bubble_seq/GSE38809/GM06990.Bubble_Seq.GSM949928_GM_B1.hg19.bed \\\n",
    "  bubble_seq/GSE38809/GM06990.Bubble_Seq.GSM949928_GM_B1.hg19.unmapped.bed\n",
    "\n",
    "!liftOver bubble_seq/GSE38809/GSE38809_GM_combined_RD_bubbles.hg18.bed \\\n",
    "  hg18ToHg19.over.chain \\\n",
    "  bubble_seq/GSE38809/GM06990.Bubble_Seq.GSE38809_GM_combined.hg19.bed \\\n",
    "  bubble_seq/GSE38809/GM06990.Bubble_Seq.GSE38809_GM_combined.hg19.unmapped.bed\n",
    "\n",
    "!liftOver bubble_seq/GSE38809/GSM949926_GM_T1_RD_bubbles.hg18.bed \\\n",
    "  hg18ToHg19.over.chain \\\n",
    "  bubble_seq/GSE38809/GM06990.Bubble_Seq.GSM949926_GM_T1.hg19.bed \\\n",
    "  bubble_seq/GSE38809/GM06990.Bubble_Seq.GSM949926_GM_T1.hg19.unmapped.bed"
   ]
  },
  {
   "cell_type": "code",
   "execution_count": 55,
   "metadata": {},
   "outputs": [
    {
     "name": "stdout",
     "output_type": "stream",
     "text": [
      "  123274 bubble_seq/GSE38809/GM06990.Bubble_Seq.GSE38809_GM_combined.hg19.bed\r\n",
      "      46 bubble_seq/GSE38809/GM06990.Bubble_Seq.GSE38809_GM_combined.hg19.unmapped.bed\r\n",
      "   34172 bubble_seq/GSE38809/GM06990.Bubble_Seq.GSM949926_GM_T1.hg19.bed\r\n",
      "      24 bubble_seq/GSE38809/GM06990.Bubble_Seq.GSM949926_GM_T1.hg19.unmapped.bed\r\n",
      "   39962 bubble_seq/GSE38809/GM06990.Bubble_Seq.GSM949927_GM_T2.hg19.bed\r\n",
      "      18 bubble_seq/GSE38809/GM06990.Bubble_Seq.GSM949927_GM_T2.hg19.unmapped.bed\r\n",
      "   36219 bubble_seq/GSE38809/GM06990.Bubble_Seq.GSM949928_GM_B1.hg19.bed\r\n",
      "      12 bubble_seq/GSE38809/GM06990.Bubble_Seq.GSM949928_GM_B1.hg19.unmapped.bed\r\n",
      "  233727 total\r\n"
     ]
    }
   ],
   "source": [
    "!wc -l bubble_seq/GSE38809/*.hg19*bed"
   ]
  },
  {
   "cell_type": "code",
   "execution_count": null,
   "metadata": {},
   "outputs": [],
   "source": []
  }
 ],
 "metadata": {
  "kernelspec": {
   "display_name": "Python 3",
   "language": "python",
   "name": "python3"
  },
  "language_info": {
   "codemirror_mode": {
    "name": "ipython",
    "version": 3
   },
   "file_extension": ".py",
   "mimetype": "text/x-python",
   "name": "python",
   "nbconvert_exporter": "python",
   "pygments_lexer": "ipython3",
   "version": "3.7.7"
  },
  "toc": {
   "base_numbering": 1,
   "nav_menu": {},
   "number_sections": true,
   "sideBar": true,
   "skip_h1_title": false,
   "title_cell": "Table of Contents",
   "title_sidebar": "Contents",
   "toc_cell": false,
   "toc_position": {},
   "toc_section_display": true,
   "toc_window_display": false
  },
  "varInspector": {
   "cols": {
    "lenName": 16,
    "lenType": 16,
    "lenVar": 40
   },
   "kernels_config": {
    "python": {
     "delete_cmd_postfix": "",
     "delete_cmd_prefix": "del ",
     "library": "var_list.py",
     "varRefreshCmd": "print(var_dic_list())"
    },
    "r": {
     "delete_cmd_postfix": ") ",
     "delete_cmd_prefix": "rm(",
     "library": "var_list.r",
     "varRefreshCmd": "cat(var_dic_list()) "
    }
   },
   "types_to_exclude": [
    "module",
    "function",
    "builtin_function_or_method",
    "instance",
    "_Feature"
   ],
   "window_display": false
  }
 },
 "nbformat": 4,
 "nbformat_minor": 4
}
